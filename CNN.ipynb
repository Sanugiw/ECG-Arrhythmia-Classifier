{
  "cells": [
    {
      "cell_type": "markdown",
      "metadata": {
        "id": "DsyhWgFjK8-Y"
      },
      "source": [
        "## **ECG Arrhythmia Classification with CNN and Interactive Dashboard**\n",
        "\n",
        "Electrocardiography (ECG) is a non-invasive technique that records the electrical activity of the heart over time. The ECG waveform reflects the coordinated depolarization and repolarization of cardiac muscle cells, mediated by the heart’s conduction system.\n",
        "\n",
        "### **Anatomical and Physiological Basis**\n",
        "\n",
        "The heart’s conduction system ensures rhythmic and synchronized contractions:\n",
        "\n",
        "* **Sinoatrial (SA) Node** – The natural pacemaker, located in the right atrium, initiates the electrical impulse.\n",
        "* **Atrial Muscle** – Conducts the impulse across both atria, producing the **P wave** (atrial depolarization).\n",
        "* **Atrioventricular (AV) Node** – Delays the impulse to allow ventricular filling, seen in the **PR segment**.\n",
        "* **Bundle of His & Bundle Branches** – Transmit the signal through the interventricular septum.\n",
        "* **Purkinje Fibers** – Rapidly deliver the impulse to ventricular myocardium, generating the **QRS complex** (ventricular depolarization) followed by the **T wave** (ventricular repolarization).\n",
        "\n",
        "### **Arrhythmias and ECG Changes**\n",
        "\n",
        "Arrhythmias occur when the impulse generation or conduction pathway is altered:\n",
        "\n",
        "* **Normal beat (N)** – Regular SA node rhythm with intact conduction.\n",
        "* **Ventricular ectopic beat (VEB)** – Premature ventricular depolarization from an abnormal focus in the ventricles, often producing a wide QRS complex.\n",
        "* **Supraventricular ectopic beat (SVEB)** – Originates above the ventricles (atria or AV node) and alters P-wave morphology with a narrow QRS.\n",
        "* **Fusion beat (F)** – A hybrid waveform from simultaneous normal and ectopic activation.\n",
        "\n",
        "These morphological differences are directly tied to the anatomical site of origin, making ECG classification both clinically relevant and physiologically interpretable.\n",
        "\n",
        "### **Project Objective**\n",
        "\n",
        "In this project, we develop a **Convolutional Neural Network (CNN)** model to classify ECG beats into different arrhythmia types using the MIT-BIH Arrhythmia Database. The model automatically learns morphological features such as P-wave shape, QRS width, and ST-T segment variations that correspond to underlying conduction abnormalities.\n",
        "\n",
        "To make the results accessible and interpretable, we integrate the trained model into a **Streamlit-based interactive dashboard** that allows users to:\n",
        "\n",
        "* Upload ECG files or explore sample beats\n",
        "* View the raw waveform and detected beats\n",
        "* See classification results with confidence scores\n",
        "* Explore explainability visualizations (e.g., Grad-CAM) mapping model attention to specific waveform regions\n",
        "* Connect waveform changes to anatomical and physiological causes\n",
        "\n",
        "This combination of deep learning, interactive visualization, and anatomical context bridges the gap between machine intelligence and clinical reasoning.\n",
        "\n",
        "---"
      ]
    },
    {
      "cell_type": "code",
      "execution_count": 7,
      "metadata": {
        "colab": {
          "base_uri": "https://localhost:8080/"
        },
        "id": "I_jFOesPPf2I",
        "outputId": "cb27efab-a917-4253-f488-34212a0b7aaa"
      },
      "outputs": [
        {
          "name": "stdout",
          "output_type": "stream",
          "text": [
            "Folder structure ready.\n",
            "MIT-BIH records downloaded.\n",
            "100: 2270 beats extracted\n",
            "101: 1870 beats extracted\n",
            "102: 2187 beats extracted\n",
            "103: 2083 beats extracted\n",
            "104: 2199 beats extracted\n",
            "105: 2571 beats extracted\n",
            "106: 2040 beats extracted\n",
            "107: 2136 beats extracted\n",
            "108: 1775 beats extracted\n",
            "109: 2530 beats extracted\n",
            "111: 2125 beats extracted\n",
            "112: 2538 beats extracted\n",
            "113: 1802 beats extracted\n",
            "114: 1883 beats extracted\n",
            "115: 1952 beats extracted\n",
            "116: 2397 beats extracted\n",
            "117: 1535 beats extracted\n",
            "118: 2278 beats extracted\n",
            "119: 1987 beats extracted\n",
            "121: 1866 beats extracted\n",
            "122: 2474 beats extracted\n",
            "123: 1518 beats extracted\n",
            "124: 1623 beats extracted\n",
            "200: 2610 beats extracted\n",
            "Total beats extracted: 50249\n",
            "Preprocessing complete. Data saved in data/processed/\n"
          ]
        }
      ],
      "source": [
        "# ================================================================\n",
        "# Create folder structure\n",
        "# ================================================================\n",
        "import os\n",
        "\n",
        "folders = [\n",
        "    \"data/raw\",\n",
        "    \"data/processed\",\n",
        "    \"models\",\n",
        "    \"src/data\",\n",
        "    \"src/models\",\n",
        "    \"app\"\n",
        "]\n",
        "for f in folders:\n",
        "    os.makedirs(f, exist_ok=True)\n",
        "\n",
        "print(\"Folder structure ready.\")\n",
        "\n",
        "# ================================================================\n",
        "# Download MIT-BIH Arrhythmia Database (all records for training)\n",
        "# ================================================================\n",
        "import wfdb\n",
        "\n",
        "record_ids = [\n",
        "    \"100\", \"101\", \"102\", \"103\", \"104\", \"105\", \"106\", \"107\", \"108\",\n",
        "    \"109\", \"111\", \"112\", \"113\", \"114\", \"115\", \"116\", \"117\", \"118\",\n",
        "    \"119\", \"121\", \"122\", \"123\", \"124\", \"200\"\n",
        "]\n",
        "\n",
        "for rec in record_ids:\n",
        "    rec_path = os.path.join(\"data/raw\", rec)\n",
        "    if not os.path.exists(rec_path):\n",
        "        print(f\"⬇️ Downloading record {rec}...\")\n",
        "        wfdb.dl_database(\n",
        "            \"mitdb\",\n",
        "            rec_path,\n",
        "            records=[rec]\n",
        "        )\n",
        "print(\"MIT-BIH records downloaded.\")\n",
        "\n",
        "# ================================================================\n",
        "# Preprocessing functions\n",
        "# ================================================================\n",
        "import numpy as np\n",
        "import neurokit2 as nk\n",
        "from scipy.signal import butter, filtfilt\n",
        "\n",
        "def bandpass_filter(signal, fs, lowcut=0.5, highcut=40.0, order=4):\n",
        "    \"\"\"Bandpass filter for ECG signal.\"\"\"\n",
        "    nyq = 0.5 * fs\n",
        "    low = lowcut / nyq\n",
        "    high = highcut / nyq\n",
        "    b, a = butter(order, [low, high], btype='band')\n",
        "    return filtfilt(b, a, signal)\n",
        "\n",
        "def preprocess_ecg(record_path, window_pre=0.2, window_post=0.4):\n",
        "    \"\"\"Load, filter, detect R-peaks, and segment beats.\"\"\"\n",
        "    try:\n",
        "        # Load ECG\n",
        "        rec = wfdb.rdrecord(record_path)\n",
        "        sig = rec.p_signal[:, 0]  # first channel\n",
        "        fs = rec.fs\n",
        "\n",
        "        # Filter\n",
        "        sig_filtered = bandpass_filter(sig, fs)\n",
        "\n",
        "        # R-peak detection\n",
        "        _, rpeaks = nk.ecg_peaks(sig_filtered, sampling_rate=fs)\n",
        "\n",
        "        # Segment beats\n",
        "        beats = []\n",
        "        wp = int(window_pre * fs)\n",
        "        ws = int(window_post * fs)\n",
        "        for r in rpeaks['ECG_R_Peaks']:\n",
        "            start = r - wp\n",
        "            end = r + ws\n",
        "            if start >= 0 and end < len(sig_filtered):\n",
        "                beat = sig_filtered[start:end]\n",
        "                beats.append(beat)\n",
        "        beats = np.array(beats)\n",
        "\n",
        "        return beats, sig_filtered, fs, rpeaks['ECG_R_Peaks']\n",
        "    except Exception as e:\n",
        "        print(f\"Error in {record_path}: {e}\")\n",
        "        return np.array([]), np.array([]), None, None\n",
        "\n",
        "# ================================================================\n",
        "# Batch process all records\n",
        "# ================================================================\n",
        "all_beats = []\n",
        "for rec in record_ids:\n",
        "    rec_path = os.path.join(\"data/raw\", rec, rec)\n",
        "    beats, sig_filt, fs, rlocs = preprocess_ecg(rec_path)\n",
        "    if beats.size > 0:\n",
        "        all_beats.append(beats)\n",
        "        print(f\"{rec}: {beats.shape[0]} beats extracted\")\n",
        "\n",
        "# Concatenate and save\n",
        "all_beats = np.vstack(all_beats)\n",
        "np.save(\"data/processed/all_beats.npy\", all_beats)\n",
        "\n",
        "print(f\"Total beats extracted: {all_beats.shape[0]}\")\n",
        "print(\"Preprocessing complete. Data saved in data/processed/\")\n"
      ]
    },
    {
      "cell_type": "markdown",
      "metadata": {
        "id": "x0szKtOQQQrf"
      },
      "source": [
        "1. Data Preparation and Labelling"
      ]
    },
    {
      "cell_type": "code",
      "execution_count": 8,
      "metadata": {
        "colab": {
          "base_uri": "https://localhost:8080/"
        },
        "id": "cTZIMTrJQOvo",
        "outputId": "5ff108ca-9464-4a28-eb82-3fcfb5c2506f"
      },
      "outputs": [
        {
          "name": "stdout",
          "output_type": "stream",
          "text": [
            "✅ Processed record 100 | 2272 beats\n",
            "✅ Processed record 101 | 1865 beats\n",
            "✅ Processed record 102 | 2131 beats\n",
            "✅ Processed record 103 | 2083 beats\n",
            "✅ Processed record 104 | 1562 beats\n",
            "✅ Processed record 105 | 2572 beats\n",
            "✅ Processed record 106 | 2027 beats\n",
            "✅ Processed record 107 | 2137 beats\n",
            "✅ Processed record 108 | 1763 beats\n",
            "✅ Processed record 109 | 2531 beats\n",
            "✅ Processed record 111 | 2124 beats\n",
            "✅ Processed record 112 | 2538 beats\n",
            "✅ Processed record 113 | 1794 beats\n",
            "✅ Processed record 114 | 1879 beats\n",
            "✅ Processed record 115 | 1952 beats\n",
            "✅ Processed record 116 | 2411 beats\n",
            "✅ Processed record 117 | 1534 beats\n",
            "✅ Processed record 118 | 2277 beats\n",
            "✅ Processed record 119 | 1987 beats\n",
            "✅ Processed record 121 | 1862 beats\n",
            "✅ Processed record 122 | 2475 beats\n",
            "✅ Processed record 123 | 1517 beats\n",
            "✅ Processed record 124 | 1618 beats\n",
            "✅ Processed record 200 | 2600 beats\n",
            "Saved 49511 beats.\n",
            "   Each beat has 200 samples (200).\n",
            "   Class distribution: [41592  2172   222    15  5510]\n"
          ]
        }
      ],
      "source": [
        "# ================================================================\n",
        "# 📥 5. Beat extraction with labels (Full MIT-BIH Dataset)\n",
        "# ================================================================\n",
        "import wfdb\n",
        "import os\n",
        "import numpy as np\n",
        "from scipy.signal import resample_poly\n",
        "\n",
        "# Mapping from MIT-BIH annotation symbols to simplified class labels\n",
        "# N = Normal, V = Ventricular ectopic, S = Supraventricular ectopic, F = Fusion, Q = Unknown\n",
        "symbol_to_class = {\n",
        "    'N': 0,  # Normal\n",
        "    'L': 0, 'R': 0, 'e': 0, 'j': 0,\n",
        "    'V': 1, 'E': 1,\n",
        "    'S': 2, 'A': 2, 'a': 2, 'J': 2,\n",
        "    'F': 3,\n",
        "    '/': 4, 'Q': 4, '?': 4\n",
        "}\n",
        "\n",
        "class_names = [\"Normal\", \"VEB\", \"SVEB\", \"Fusion\", \"Unknown\"]\n",
        "TARGET_LENGTH = 200  \n",
        "\n",
        "def extract_beats_with_labels(record_path):\n",
        "    \"\"\"Load ECG signal, filter, align to annotations, extract beats & labels.\"\"\"\n",
        "    rec = wfdb.rdrecord(record_path)\n",
        "    ann = wfdb.rdann(record_path, 'atr')\n",
        "    sig = rec.p_signal[:, 0]  # first channel\n",
        "    fs = rec.fs\n",
        "\n",
        "    # Filter signal\n",
        "    sig_filtered = bandpass_filter(sig, fs)\n",
        "\n",
        "    beats, labels = [], []\n",
        "    window_pre = int(0.2 * fs)\n",
        "    window_post = int(0.4 * fs)\n",
        "    \n",
        "    for idx, sym in zip(ann.sample, ann.symbol):\n",
        "        if sym in symbol_to_class:\n",
        "            start = idx - window_pre\n",
        "            end = idx + window_post\n",
        "            if start >= 0 and end < len(sig_filtered):\n",
        "                beat = sig_filtered[start:end]\n",
        "                # Resample to fixed length\n",
        "                beat = resample_poly(beat, TARGET_LENGTH, len(beat))\n",
        "                # Normalize\n",
        "                beat = (beat - np.mean(beat)) / (np.std(beat) + 1e-8)\n",
        "                beats.append(beat)\n",
        "                labels.append(symbol_to_class[sym])\n",
        "\n",
        "    return np.array(beats), np.array(labels)\n",
        "\n",
        "\n",
        "# ================================================================\n",
        "# Process all records from MIT-BIH (48 total)\n",
        "# ================================================================\n",
        "all_beats, all_labels = [], []\n",
        "\n",
        "# List of records in MIT-BIH (100–234, excluding a few missing ones)\n",
        "record_ids = [\n",
        "    \"100\",\"101\",\"102\",\"103\",\"104\",\"105\",\"106\",\"107\",\"108\",\"109\",\n",
        "    \"111\",\"112\",\"113\",\"114\",\"115\",\"116\",\"117\",\"118\",\"119\",\"121\",\n",
        "    \"122\",\"123\",\"124\",\"200\"\n",
        "]\n",
        "\n",
        "for rec in record_ids:\n",
        "    record_path = os.path.join(\"data/raw\", rec, rec)\n",
        "    try:\n",
        "        beats, labels = extract_beats_with_labels(record_path)\n",
        "        all_beats.append(beats)\n",
        "        all_labels.append(labels)\n",
        "        print(f\"✅ Processed record {rec} | {beats.shape[0]} beats\")\n",
        "    except Exception as e:\n",
        "        print(f\"⚠️ Skipped record {rec} due to error: {e}\")\n",
        "\n",
        "# Combine all into arrays\n",
        "all_beats = np.vstack(all_beats)\n",
        "all_labels = np.concatenate(all_labels)\n",
        "\n",
        "# Save processed dataset\n",
        "np.save(\"data/processed/beats.npy\", all_beats)\n",
        "np.save(\"data/processed/labels.npy\", all_labels)\n",
        "\n",
        "print(f\"Saved {all_beats.shape[0]} beats.\")\n",
        "print(f\"   Each beat has {all_beats.shape[1]} samples ({TARGET_LENGTH}).\")\n",
        "print(f\"   Class distribution: {np.bincount(all_labels)}\")\n"
      ]
    },
    {
      "cell_type": "markdown",
      "metadata": {
        "id": "pWEA-FFLQXZt"
      },
      "source": [
        "CNN Model Definition & Training"
      ]
    },
    {
      "cell_type": "code",
      "execution_count": 9,
      "metadata": {
        "colab": {
          "base_uri": "https://localhost:8080/"
        },
        "id": "eEu0jYLbQaWo",
        "outputId": "0b54ef52-111c-4f7a-afce-8b598014c95f"
      },
      "outputs": [
        {
          "name": "stdout",
          "output_type": "stream",
          "text": [
            "✅ Computed class weights: {0: np.float64(0.23807943835352952), 1: np.float64(4.55902394106814), 2: np.float64(44.604504504504504), 3: np.float64(660.1466666666666), 4: np.float64(1.7971324863883849)}\n"
          ]
        },
        {
          "name": "stderr",
          "output_type": "stream",
          "text": [
            "d:\\ECG-Classifier\\.venv\\Lib\\site-packages\\keras\\src\\layers\\convolutional\\base_conv.py:113: UserWarning: Do not pass an `input_shape`/`input_dim` argument to a layer. When using Sequential models, prefer using an `Input(shape)` object as the first layer in the model instead.\n",
            "  super().__init__(activity_regularizer=activity_regularizer, **kwargs)\n"
          ]
        },
        {
          "name": "stdout",
          "output_type": "stream",
          "text": [
            "Epoch 1/30\n",
            "\u001b[1m617/619\u001b[0m \u001b[32m━━━━━━━━━━━━━━━━━━━\u001b[0m\u001b[37m━\u001b[0m \u001b[1m0s\u001b[0m 21ms/step - accuracy: 0.5800 - loss: 1.1195"
          ]
        },
        {
          "name": "stderr",
          "output_type": "stream",
          "text": [
            "WARNING:absl:You are saving your model as an HDF5 file via `model.save()` or `keras.saving.save_model(model)`. This file format is considered legacy. We recommend using instead the native Keras format, e.g. `model.save('my_model.keras')` or `keras.saving.save_model(model, 'my_model.keras')`. \n"
          ]
        },
        {
          "name": "stdout",
          "output_type": "stream",
          "text": [
            "\u001b[1m619/619\u001b[0m \u001b[32m━━━━━━━━━━━━━━━━━━━━\u001b[0m\u001b[37m\u001b[0m \u001b[1m18s\u001b[0m 24ms/step - accuracy: 0.6087 - loss: 1.2243 - val_accuracy: 0.4274 - val_loss: 1.3296\n",
            "Epoch 2/30\n",
            "\u001b[1m618/619\u001b[0m \u001b[32m━━━━━━━━━━━━━━━━━━━\u001b[0m\u001b[37m━\u001b[0m \u001b[1m0s\u001b[0m 22ms/step - accuracy: 0.5677 - loss: 1.2610"
          ]
        },
        {
          "name": "stderr",
          "output_type": "stream",
          "text": [
            "WARNING:absl:You are saving your model as an HDF5 file via `model.save()` or `keras.saving.save_model(model)`. This file format is considered legacy. We recommend using instead the native Keras format, e.g. `model.save('my_model.keras')` or `keras.saving.save_model(model, 'my_model.keras')`. \n"
          ]
        },
        {
          "name": "stdout",
          "output_type": "stream",
          "text": [
            "\u001b[1m619/619\u001b[0m \u001b[32m━━━━━━━━━━━━━━━━━━━━\u001b[0m\u001b[37m\u001b[0m \u001b[1m15s\u001b[0m 24ms/step - accuracy: 0.5781 - loss: 1.0811 - val_accuracy: 0.6151 - val_loss: 0.7873\n",
            "Epoch 3/30\n",
            "\u001b[1m618/619\u001b[0m \u001b[32m━━━━━━━━━━━━━━━━━━━\u001b[0m\u001b[37m━\u001b[0m \u001b[1m0s\u001b[0m 23ms/step - accuracy: 0.6229 - loss: 1.0310"
          ]
        },
        {
          "name": "stderr",
          "output_type": "stream",
          "text": [
            "WARNING:absl:You are saving your model as an HDF5 file via `model.save()` or `keras.saving.save_model(model)`. This file format is considered legacy. We recommend using instead the native Keras format, e.g. `model.save('my_model.keras')` or `keras.saving.save_model(model, 'my_model.keras')`. \n"
          ]
        },
        {
          "name": "stdout",
          "output_type": "stream",
          "text": [
            "\u001b[1m619/619\u001b[0m \u001b[32m━━━━━━━━━━━━━━━━━━━━\u001b[0m\u001b[37m\u001b[0m \u001b[1m15s\u001b[0m 25ms/step - accuracy: 0.6316 - loss: 0.9512 - val_accuracy: 0.7280 - val_loss: 0.7667\n",
            "Epoch 4/30\n",
            "\u001b[1m617/619\u001b[0m \u001b[32m━━━━━━━━━━━━━━━━━━━\u001b[0m\u001b[37m━\u001b[0m \u001b[1m0s\u001b[0m 23ms/step - accuracy: 0.6992 - loss: 0.7143"
          ]
        },
        {
          "name": "stderr",
          "output_type": "stream",
          "text": [
            "WARNING:absl:You are saving your model as an HDF5 file via `model.save()` or `keras.saving.save_model(model)`. This file format is considered legacy. We recommend using instead the native Keras format, e.g. `model.save('my_model.keras')` or `keras.saving.save_model(model, 'my_model.keras')`. \n"
          ]
        },
        {
          "name": "stdout",
          "output_type": "stream",
          "text": [
            "\u001b[1m619/619\u001b[0m \u001b[32m━━━━━━━━━━━━━━━━━━━━\u001b[0m\u001b[37m\u001b[0m \u001b[1m16s\u001b[0m 25ms/step - accuracy: 0.6816 - loss: 0.7377 - val_accuracy: 0.7334 - val_loss: 0.7478\n",
            "Epoch 5/30\n",
            "\u001b[1m619/619\u001b[0m \u001b[32m━━━━━━━━━━━━━━━━━━━━\u001b[0m\u001b[37m\u001b[0m \u001b[1m16s\u001b[0m 25ms/step - accuracy: 0.6743 - loss: 0.7340 - val_accuracy: 0.5674 - val_loss: 1.2223\n",
            "Epoch 6/30\n",
            "\u001b[1m618/619\u001b[0m \u001b[32m━━━━━━━━━━━━━━━━━━━\u001b[0m\u001b[37m━\u001b[0m \u001b[1m0s\u001b[0m 29ms/step - accuracy: 0.6076 - loss: 0.9637"
          ]
        },
        {
          "name": "stderr",
          "output_type": "stream",
          "text": [
            "WARNING:absl:You are saving your model as an HDF5 file via `model.save()` or `keras.saving.save_model(model)`. This file format is considered legacy. We recommend using instead the native Keras format, e.g. `model.save('my_model.keras')` or `keras.saving.save_model(model, 'my_model.keras')`. \n"
          ]
        },
        {
          "name": "stdout",
          "output_type": "stream",
          "text": [
            "\u001b[1m619/619\u001b[0m \u001b[32m━━━━━━━━━━━━━━━━━━━━\u001b[0m\u001b[37m\u001b[0m \u001b[1m20s\u001b[0m 32ms/step - accuracy: 0.6696 - loss: 0.7244 - val_accuracy: 0.8359 - val_loss: 0.6489\n",
            "Epoch 7/30\n",
            "\u001b[1m619/619\u001b[0m \u001b[32m━━━━━━━━━━━━━━━━━━━━\u001b[0m\u001b[37m\u001b[0m \u001b[1m14s\u001b[0m 22ms/step - accuracy: 0.6967 - loss: 0.7688 - val_accuracy: 0.7985 - val_loss: 0.6785\n",
            "Epoch 8/30\n",
            "\u001b[1m619/619\u001b[0m \u001b[32m━━━━━━━━━━━━━━━━━━━━\u001b[0m\u001b[37m\u001b[0m \u001b[1m17s\u001b[0m 27ms/step - accuracy: 0.6979 - loss: 0.5997 - val_accuracy: 0.6929 - val_loss: 0.6950\n",
            "Epoch 9/30\n",
            "\u001b[1m619/619\u001b[0m \u001b[32m━━━━━━━━━━━━━━━━━━━━\u001b[0m\u001b[37m\u001b[0m \u001b[1m15s\u001b[0m 25ms/step - accuracy: 0.7595 - loss: 0.4637 - val_accuracy: 0.6924 - val_loss: 0.7731\n",
            "Epoch 10/30\n",
            "\u001b[1m617/619\u001b[0m \u001b[32m━━━━━━━━━━━━━━━━━━━\u001b[0m\u001b[37m━\u001b[0m \u001b[1m0s\u001b[0m 18ms/step - accuracy: 0.7895 - loss: 0.3809"
          ]
        },
        {
          "name": "stderr",
          "output_type": "stream",
          "text": [
            "WARNING:absl:You are saving your model as an HDF5 file via `model.save()` or `keras.saving.save_model(model)`. This file format is considered legacy. We recommend using instead the native Keras format, e.g. `model.save('my_model.keras')` or `keras.saving.save_model(model, 'my_model.keras')`. \n"
          ]
        },
        {
          "name": "stdout",
          "output_type": "stream",
          "text": [
            "\u001b[1m619/619\u001b[0m \u001b[32m━━━━━━━━━━━━━━━━━━━━\u001b[0m\u001b[37m\u001b[0m \u001b[1m12s\u001b[0m 20ms/step - accuracy: 0.7763 - loss: 0.4019 - val_accuracy: 0.8777 - val_loss: 0.4733\n",
            "Epoch 11/30\n",
            "\u001b[1m619/619\u001b[0m \u001b[32m━━━━━━━━━━━━━━━━━━━━\u001b[0m\u001b[37m\u001b[0m \u001b[1m19s\u001b[0m 17ms/step - accuracy: 0.7597 - loss: 0.5198 - val_accuracy: 0.7947 - val_loss: 0.6789\n",
            "Epoch 12/30\n",
            "\u001b[1m617/619\u001b[0m \u001b[32m━━━━━━━━━━━━━━━━━━━\u001b[0m\u001b[37m━\u001b[0m \u001b[1m0s\u001b[0m 20ms/step - accuracy: 0.7700 - loss: 0.3894"
          ]
        },
        {
          "name": "stderr",
          "output_type": "stream",
          "text": [
            "WARNING:absl:You are saving your model as an HDF5 file via `model.save()` or `keras.saving.save_model(model)`. This file format is considered legacy. We recommend using instead the native Keras format, e.g. `model.save('my_model.keras')` or `keras.saving.save_model(model, 'my_model.keras')`. \n"
          ]
        },
        {
          "name": "stdout",
          "output_type": "stream",
          "text": [
            "\u001b[1m619/619\u001b[0m \u001b[32m━━━━━━━━━━━━━━━━━━━━\u001b[0m\u001b[37m\u001b[0m \u001b[1m14s\u001b[0m 22ms/step - accuracy: 0.8002 - loss: 0.3841 - val_accuracy: 0.8538 - val_loss: 0.4649\n",
            "Epoch 13/30\n",
            "\u001b[1m619/619\u001b[0m \u001b[32m━━━━━━━━━━━━━━━━━━━━\u001b[0m\u001b[37m\u001b[0m \u001b[1m13s\u001b[0m 21ms/step - accuracy: 0.7736 - loss: 0.4221 - val_accuracy: 0.3542 - val_loss: 1.7379\n",
            "Epoch 14/30\n",
            "\u001b[1m619/619\u001b[0m \u001b[32m━━━━━━━━━━━━━━━━━━━━\u001b[0m\u001b[37m\u001b[0m \u001b[1m0s\u001b[0m 24ms/step - accuracy: 0.7569 - loss: 0.4039"
          ]
        },
        {
          "name": "stderr",
          "output_type": "stream",
          "text": [
            "WARNING:absl:You are saving your model as an HDF5 file via `model.save()` or `keras.saving.save_model(model)`. This file format is considered legacy. We recommend using instead the native Keras format, e.g. `model.save('my_model.keras')` or `keras.saving.save_model(model, 'my_model.keras')`. \n"
          ]
        },
        {
          "name": "stdout",
          "output_type": "stream",
          "text": [
            "\u001b[1m619/619\u001b[0m \u001b[32m━━━━━━━━━━━━━━━━━━━━\u001b[0m\u001b[37m\u001b[0m \u001b[1m16s\u001b[0m 27ms/step - accuracy: 0.7889 - loss: 0.3626 - val_accuracy: 0.8403 - val_loss: 0.4369\n",
            "Epoch 15/30\n",
            "\u001b[1m619/619\u001b[0m \u001b[32m━━━━━━━━━━━━━━━━━━━━\u001b[0m\u001b[37m\u001b[0m \u001b[1m15s\u001b[0m 24ms/step - accuracy: 0.8232 - loss: 0.3088 - val_accuracy: 0.7427 - val_loss: 0.6543\n",
            "Epoch 16/30\n",
            "\u001b[1m619/619\u001b[0m \u001b[32m━━━━━━━━━━━━━━━━━━━━\u001b[0m\u001b[37m\u001b[0m \u001b[1m17s\u001b[0m 27ms/step - accuracy: 0.7852 - loss: 0.4056 - val_accuracy: 0.8103 - val_loss: 0.5616\n",
            "Epoch 17/30\n",
            "\u001b[1m619/619\u001b[0m \u001b[32m━━━━━━━━━━━━━━━━━━━━\u001b[0m\u001b[37m\u001b[0m \u001b[1m15s\u001b[0m 24ms/step - accuracy: 0.8052 - loss: 0.4412 - val_accuracy: 0.7949 - val_loss: 0.6085\n",
            "Epoch 18/30\n",
            "\u001b[1m619/619\u001b[0m \u001b[32m━━━━━━━━━━━━━━━━━━━━\u001b[0m\u001b[37m\u001b[0m \u001b[1m0s\u001b[0m 22ms/step - accuracy: 0.7822 - loss: 0.3636"
          ]
        },
        {
          "name": "stderr",
          "output_type": "stream",
          "text": [
            "WARNING:absl:You are saving your model as an HDF5 file via `model.save()` or `keras.saving.save_model(model)`. This file format is considered legacy. We recommend using instead the native Keras format, e.g. `model.save('my_model.keras')` or `keras.saving.save_model(model, 'my_model.keras')`. \n"
          ]
        },
        {
          "name": "stdout",
          "output_type": "stream",
          "text": [
            "\u001b[1m619/619\u001b[0m \u001b[32m━━━━━━━━━━━━━━━━━━━━\u001b[0m\u001b[37m\u001b[0m \u001b[1m15s\u001b[0m 24ms/step - accuracy: 0.8093 - loss: 0.3514 - val_accuracy: 0.8742 - val_loss: 0.4140\n",
            "Epoch 19/30\n",
            "\u001b[1m619/619\u001b[0m \u001b[32m━━━━━━━━━━━━━━━━━━━━\u001b[0m\u001b[37m\u001b[0m \u001b[1m15s\u001b[0m 25ms/step - accuracy: 0.8369 - loss: 0.3093 - val_accuracy: 0.4795 - val_loss: 1.3423\n",
            "Epoch 20/30\n",
            "\u001b[1m619/619\u001b[0m \u001b[32m━━━━━━━━━━━━━━━━━━━━\u001b[0m\u001b[37m\u001b[0m \u001b[1m17s\u001b[0m 27ms/step - accuracy: 0.8179 - loss: 0.3833 - val_accuracy: 0.8871 - val_loss: 0.4204\n",
            "Epoch 21/30\n",
            "\u001b[1m619/619\u001b[0m \u001b[32m━━━━━━━━━━━━━━━━━━━━\u001b[0m\u001b[37m\u001b[0m \u001b[1m16s\u001b[0m 25ms/step - accuracy: 0.8263 - loss: 0.3102 - val_accuracy: 0.8051 - val_loss: 0.4882\n",
            "Epoch 22/30\n",
            "\u001b[1m619/619\u001b[0m \u001b[32m━━━━━━━━━━━━━━━━━━━━\u001b[0m\u001b[37m\u001b[0m \u001b[1m15s\u001b[0m 24ms/step - accuracy: 0.8405 - loss: 0.2795 - val_accuracy: 0.8188 - val_loss: 0.4850\n",
            "Epoch 23/30\n",
            "\u001b[1m619/619\u001b[0m \u001b[32m━━━━━━━━━━━━━━━━━━━━\u001b[0m\u001b[37m\u001b[0m \u001b[1m16s\u001b[0m 26ms/step - accuracy: 0.8490 - loss: 0.2898 - val_accuracy: 0.8540 - val_loss: 0.4373\n"
          ]
        },
        {
          "name": "stderr",
          "output_type": "stream",
          "text": [
            "WARNING:absl:You are saving your model as an HDF5 file via `model.save()` or `keras.saving.save_model(model)`. This file format is considered legacy. We recommend using instead the native Keras format, e.g. `model.save('my_model.keras')` or `keras.saving.save_model(model, 'my_model.keras')`. \n"
          ]
        },
        {
          "name": "stdout",
          "output_type": "stream",
          "text": [
            "Model trained and saved at models/cnn_ecg_final.h5\n"
          ]
        }
      ],
      "source": [
        "# ================================================================\n",
        "# 🤖 6. Build and Train 1D-CNN for ECG Beat Classification\n",
        "# ================================================================\n",
        "import numpy as np\n",
        "import tensorflow as tf\n",
        "from sklearn.model_selection import train_test_split\n",
        "from sklearn.utils.class_weight import compute_class_weight\n",
        "\n",
        "# ------------------------------\n",
        "# 🔹 Load processed dataset\n",
        "# ------------------------------\n",
        "X = np.load(\"data/processed/beats.npy\")\n",
        "y = np.load(\"data/processed/labels.npy\")\n",
        "\n",
        "# Add channel dimension for Conv1D\n",
        "X = X[..., np.newaxis]\n",
        "\n",
        "# Train-validation split (stratified for balance)\n",
        "X_train, X_val, y_train, y_val = train_test_split(\n",
        "    X, y, stratify=y, test_size=0.2, random_state=42\n",
        ")\n",
        "\n",
        "# One-hot encode labels\n",
        "num_classes = len(np.unique(y))\n",
        "y_train_cat = tf.keras.utils.to_categorical(y_train, num_classes=num_classes)\n",
        "y_val_cat = tf.keras.utils.to_categorical(y_val, num_classes=num_classes)\n",
        "\n",
        "# ------------------------------\n",
        "# ⚖️ Handle class imbalance\n",
        "# ------------------------------\n",
        "class_weights = compute_class_weight(\n",
        "    class_weight=\"balanced\", classes=np.unique(y), y=y\n",
        ")\n",
        "cw_dict = {i: w for i, w in enumerate(class_weights)}\n",
        "print(\"✅ Computed class weights:\", cw_dict)\n",
        "\n",
        "# ------------------------------\n",
        "# 🏗️ Define 1D CNN model\n",
        "# ------------------------------\n",
        "def build_cnn(input_shape, num_classes):\n",
        "    model = tf.keras.Sequential([\n",
        "        tf.keras.layers.Conv1D(32, kernel_size=7, padding=\"same\", activation=\"relu\", input_shape=input_shape),\n",
        "        tf.keras.layers.BatchNormalization(),\n",
        "        tf.keras.layers.MaxPooling1D(2),\n",
        "\n",
        "        tf.keras.layers.Conv1D(64, kernel_size=5, padding=\"same\", activation=\"relu\"),\n",
        "        tf.keras.layers.BatchNormalization(),\n",
        "        tf.keras.layers.MaxPooling1D(2),\n",
        "\n",
        "        tf.keras.layers.Conv1D(128, kernel_size=3, padding=\"same\", activation=\"relu\"),\n",
        "        tf.keras.layers.BatchNormalization(),\n",
        "        tf.keras.layers.GlobalAveragePooling1D(),\n",
        "\n",
        "        tf.keras.layers.Dense(128, activation=\"relu\"),\n",
        "        tf.keras.layers.Dropout(0.4),\n",
        "        tf.keras.layers.Dense(num_classes, activation=\"softmax\")\n",
        "    ])\n",
        "    return model\n",
        "\n",
        "model = build_cnn(X_train.shape[1:], num_classes)\n",
        "model.compile(optimizer=tf.keras.optimizers.Adam(learning_rate=1e-3),\n",
        "            loss=\"categorical_crossentropy\",\n",
        "            metrics=[\"accuracy\"])\n",
        "\n",
        "# ------------------------------\n",
        "# ⏳ Train model with callbacks\n",
        "# ------------------------------\n",
        "callbacks = [\n",
        "    tf.keras.callbacks.EarlyStopping(monitor=\"val_loss\", patience=5, restore_best_weights=True),\n",
        "    tf.keras.callbacks.ModelCheckpoint(\"models/cnn_ecg_best.h5\", save_best_only=True)\n",
        "]\n",
        "\n",
        "history = model.fit(\n",
        "    X_train, y_train_cat,\n",
        "    validation_data=(X_val, y_val_cat),\n",
        "    epochs=30,\n",
        "    batch_size=64,\n",
        "    class_weight=cw_dict,\n",
        "    callbacks=callbacks,\n",
        "    verbose=1\n",
        ")\n",
        "\n",
        "# ------------------------------\n",
        "# Save final model\n",
        "# ------------------------------\n",
        "model.save(\"models/cnn_ecg_final.h5\")\n",
        "print(\"Model trained and saved at models/cnn_ecg_final.h5\")\n"
      ]
    },
    {
      "cell_type": "markdown",
      "metadata": {
        "id": "0rNF3O5dQdFs"
      },
      "source": [
        "3. Grad-CAM for Explainability"
      ]
    },
    {
      "cell_type": "code",
      "execution_count": 11,
      "metadata": {
        "id": "WOcngMyyQftW"
      },
      "outputs": [],
      "source": [
        "\n",
        "\n",
        "def grad_cam_1d(model, signal, class_index, layer_name=\"conv1d_2\"):\n",
        "    \"\"\"\n",
        "    Generate Grad-CAM heatmap for 1D CNN input.\n",
        "    \n",
        "    Args:\n",
        "        model: Trained tf.keras model.\n",
        "        signal: 1D numpy array of shape (seq_len,) or (seq_len,1).\n",
        "        class_index: Target class index for explanation.\n",
        "        layer_name: Name of the last conv layer.\n",
        "    Returns:\n",
        "        heatmap (numpy array): Importance weights aligned to signal length.\n",
        "    \"\"\"\n",
        "    # Ensure correct shape: (1, seq_len, 1)\n",
        "    if signal.ndim == 1:\n",
        "        signal = np.expand_dims(signal, axis=-1)\n",
        "    signal = np.expand_dims(signal, axis=0)\n",
        "\n",
        "    # Get the last conv layer\n",
        "    conv_layer = model.get_layer(layer_name)\n",
        "\n",
        "    # Create model: input -> (conv outputs, predictions)\n",
        "    grad_model = tf.keras.models.Model(\n",
        "        inputs=model.inputs,\n",
        "        outputs=[conv_layer.output, model.output]\n",
        "    )\n",
        "\n",
        "    with tf.GradientTape() as tape:\n",
        "        conv_outputs, predictions = grad_model(signal)\n",
        "        loss = predictions[:, class_index]\n",
        "\n",
        "    # Compute gradients of loss wrt conv outputs\n",
        "    grads = tape.gradient(loss, conv_outputs)\n",
        "\n",
        "    # Global average pooling over channels\n",
        "    weights = tf.reduce_mean(grads, axis=1)  # shape (batch, channels)\n",
        "\n",
        "    # Weighted combination of conv outputs\n",
        "    cam = tf.reduce_sum(tf.multiply(conv_outputs, tf.expand_dims(weights, 1)), axis=-1)\n",
        "\n",
        "    # Normalize heatmap to 0–1\n",
        "    heatmap = tf.maximum(cam, 0).numpy()[0]\n",
        "    heatmap = (heatmap - np.min(heatmap)) / (np.max(heatmap) + 1e-8)\n",
        "\n",
        "    # Resize to match signal length\n",
        "    heatmap = np.interp(\n",
        "        np.arange(signal.shape[1]),\n",
        "        np.linspace(0, signal.shape[1] - 1, len(heatmap)),\n",
        "        heatmap\n",
        "    )\n",
        "\n",
        "    return heatmap\n"
      ]
    }
  ],
  "metadata": {
    "colab": {
      "provenance": []
    },
    "kernelspec": {
      "display_name": ".venv",
      "language": "python",
      "name": "python3"
    },
    "language_info": {
      "codemirror_mode": {
        "name": "ipython",
        "version": 3
      },
      "file_extension": ".py",
      "mimetype": "text/x-python",
      "name": "python",
      "nbconvert_exporter": "python",
      "pygments_lexer": "ipython3",
      "version": "3.13.5"
    }
  },
  "nbformat": 4,
  "nbformat_minor": 0
}
